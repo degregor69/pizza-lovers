{
 "cells": [
  {
   "cell_type": "markdown",
   "id": "a080cbd8",
   "metadata": {},
   "source": [
    "# Pizza Lovers\n",
    "## Your data analysis of pizzerias in Paris"
   ]
  },
  {
   "cell_type": "markdown",
   "id": "4c2a6bd6",
   "metadata": {},
   "source": [
    "### Import of the data"
   ]
  },
  {
   "cell_type": "code",
   "execution_count": 1,
   "id": "a618ff03",
   "metadata": {},
   "outputs": [],
   "source": [
    "import pandas as pd\n",
    "import numpy as np\n",
    "\n",
    "df = pd.read_csv('basic_data.csv', delimiter = '|')"
   ]
  },
  {
   "cell_type": "markdown",
   "id": "be980ef7",
   "metadata": {},
   "source": [
    "### Split of the postal code and the city"
   ]
  },
  {
   "cell_type": "code",
   "execution_count": 2,
   "id": "8403120e",
   "metadata": {},
   "outputs": [
    {
     "data": {
      "text/html": [
       "<div>\n",
       "<style scoped>\n",
       "    .dataframe tbody tr th:only-of-type {\n",
       "        vertical-align: middle;\n",
       "    }\n",
       "\n",
       "    .dataframe tbody tr th {\n",
       "        vertical-align: top;\n",
       "    }\n",
       "\n",
       "    .dataframe thead th {\n",
       "        text-align: right;\n",
       "    }\n",
       "</style>\n",
       "<table border=\"1\" class=\"dataframe\">\n",
       "  <thead>\n",
       "    <tr style=\"text-align: right;\">\n",
       "      <th></th>\n",
       "      <th>name</th>\n",
       "      <th>average_rate</th>\n",
       "      <th>nb_of_reviews</th>\n",
       "      <th>address</th>\n",
       "    </tr>\n",
       "  </thead>\n",
       "  <tbody>\n",
       "    <tr>\n",
       "      <th>0</th>\n",
       "      <td>Pizza Wawa</td>\n",
       "      <td>4,5</td>\n",
       "      <td>1535</td>\n",
       "      <td>35 Rue Saint-Honoré, 75001 Paris</td>\n",
       "    </tr>\n",
       "    <tr>\n",
       "      <th>1</th>\n",
       "      <td>Pizzeria Iovine's</td>\n",
       "      <td>4,5</td>\n",
       "      <td>2591</td>\n",
       "      <td>7bis Rue du Colonel Driant, 75001 Paris</td>\n",
       "    </tr>\n",
       "    <tr>\n",
       "      <th>2</th>\n",
       "      <td>Milo</td>\n",
       "      <td>4,6</td>\n",
       "      <td>579</td>\n",
       "      <td>44 Rue Saint-Honoré, 75001 Paris</td>\n",
       "    </tr>\n",
       "    <tr>\n",
       "      <th>3</th>\n",
       "      <td>La Tavola Calda</td>\n",
       "      <td>4,5</td>\n",
       "      <td>513</td>\n",
       "      <td>39 Rue des Bourdonnais, 75001 Paris</td>\n",
       "    </tr>\n",
       "    <tr>\n",
       "      <th>4</th>\n",
       "      <td>Liberto</td>\n",
       "      <td>4,7</td>\n",
       "      <td>1697</td>\n",
       "      <td>23 Rue Berger, 75001 Paris</td>\n",
       "    </tr>\n",
       "    <tr>\n",
       "      <th>...</th>\n",
       "      <td>...</td>\n",
       "      <td>...</td>\n",
       "      <td>...</td>\n",
       "      <td>...</td>\n",
       "    </tr>\n",
       "    <tr>\n",
       "      <th>467</th>\n",
       "      <td>La Trattoria di Bellagio</td>\n",
       "      <td>4,1</td>\n",
       "      <td>422</td>\n",
       "      <td>101 Av. des Ternes, 75017 Paris</td>\n",
       "    </tr>\n",
       "    <tr>\n",
       "      <th>468</th>\n",
       "      <td>La Monella Pizzeria</td>\n",
       "      <td>4,2</td>\n",
       "      <td>86</td>\n",
       "      <td>2 Rue Lemercier, 75017 Paris</td>\n",
       "    </tr>\n",
       "    <tr>\n",
       "      <th>469</th>\n",
       "      <td>Captain's Pizza</td>\n",
       "      <td>4,5</td>\n",
       "      <td>46</td>\n",
       "      <td>13 Rue Brey, 75017 Paris</td>\n",
       "    </tr>\n",
       "    <tr>\n",
       "      <th>470</th>\n",
       "      <td>CIRO E I SUOI FRATELLI</td>\n",
       "      <td>4,8</td>\n",
       "      <td>154</td>\n",
       "      <td>34 Rue Saint-Ferdinand, 75017 Paris</td>\n",
       "    </tr>\n",
       "    <tr>\n",
       "      <th>471</th>\n",
       "      <td>Le Zoo</td>\n",
       "      <td>4,0</td>\n",
       "      <td>26</td>\n",
       "      <td>87 Rue Cardinet, 75017 Paris</td>\n",
       "    </tr>\n",
       "  </tbody>\n",
       "</table>\n",
       "<p>472 rows × 4 columns</p>\n",
       "</div>"
      ],
      "text/plain": [
       "                         name average_rate  nb_of_reviews  \\\n",
       "0                  Pizza Wawa          4,5           1535   \n",
       "1           Pizzeria Iovine's          4,5           2591   \n",
       "2                        Milo          4,6            579   \n",
       "3             La Tavola Calda          4,5            513   \n",
       "4                     Liberto          4,7           1697   \n",
       "..                        ...          ...            ...   \n",
       "467  La Trattoria di Bellagio          4,1            422   \n",
       "468       La Monella Pizzeria          4,2             86   \n",
       "469           Captain's Pizza          4,5             46   \n",
       "470    CIRO E I SUOI FRATELLI          4,8            154   \n",
       "471                    Le Zoo          4,0             26   \n",
       "\n",
       "                                     address  \n",
       "0           35 Rue Saint-Honoré, 75001 Paris  \n",
       "1    7bis Rue du Colonel Driant, 75001 Paris  \n",
       "2           44 Rue Saint-Honoré, 75001 Paris  \n",
       "3        39 Rue des Bourdonnais, 75001 Paris  \n",
       "4                 23 Rue Berger, 75001 Paris  \n",
       "..                                       ...  \n",
       "467          101 Av. des Ternes, 75017 Paris  \n",
       "468             2 Rue Lemercier, 75017 Paris  \n",
       "469                 13 Rue Brey, 75017 Paris  \n",
       "470      34 Rue Saint-Ferdinand, 75017 Paris  \n",
       "471             87 Rue Cardinet, 75017 Paris  \n",
       "\n",
       "[472 rows x 4 columns]"
      ]
     },
     "execution_count": 2,
     "metadata": {},
     "output_type": "execute_result"
    }
   ],
   "source": [
    "df"
   ]
  },
  {
   "cell_type": "markdown",
   "id": "3a99718a",
   "metadata": {},
   "source": [
    "### Cleaning the data\n",
    "#### Remove duplicates"
   ]
  },
  {
   "cell_type": "code",
   "execution_count": 3,
   "id": "76b6d187",
   "metadata": {},
   "outputs": [],
   "source": [
    "df = df.drop_duplicates()"
   ]
  },
  {
   "cell_type": "markdown",
   "id": "85d4949d",
   "metadata": {},
   "source": [
    "#### Show the restaurants that do not have Paris in their address"
   ]
  },
  {
   "cell_type": "code",
   "execution_count": 4,
   "id": "dd61b444",
   "metadata": {},
   "outputs": [],
   "source": [
    "pd.set_option('display.max_rows', None)\n",
    "df[~df['address'].str.contains('Paris')]\n",
    "\n",
    "# Deleting the 306th and 411th because there are not in Paris\n",
    "\n",
    "df = df.drop([306,411])\n",
    "df[~df['address'].str.contains('Paris')]\n",
    "pd.set_option('display.max_rows', 10)"
   ]
  },
  {
   "cell_type": "code",
   "execution_count": 5,
   "id": "73e0191f",
   "metadata": {},
   "outputs": [
    {
     "data": {
      "text/html": [
       "<div>\n",
       "<style scoped>\n",
       "    .dataframe tbody tr th:only-of-type {\n",
       "        vertical-align: middle;\n",
       "    }\n",
       "\n",
       "    .dataframe tbody tr th {\n",
       "        vertical-align: top;\n",
       "    }\n",
       "\n",
       "    .dataframe thead th {\n",
       "        text-align: right;\n",
       "    }\n",
       "</style>\n",
       "<table border=\"1\" class=\"dataframe\">\n",
       "  <thead>\n",
       "    <tr style=\"text-align: right;\">\n",
       "      <th></th>\n",
       "      <th>name</th>\n",
       "      <th>average_rate</th>\n",
       "      <th>nb_of_reviews</th>\n",
       "      <th>address</th>\n",
       "    </tr>\n",
       "  </thead>\n",
       "  <tbody>\n",
       "  </tbody>\n",
       "</table>\n",
       "</div>"
      ],
      "text/plain": [
       "Empty DataFrame\n",
       "Columns: [name, average_rate, nb_of_reviews, address]\n",
       "Index: []"
      ]
     },
     "execution_count": 5,
     "metadata": {},
     "output_type": "execute_result"
    }
   ],
   "source": [
    "# Examine the address of the last one\n",
    "df[df['name'].str.contains('CAMPISI')]\n",
    "df.at[369, 'address'] = 'Angle rue de Boulanvilliers, 1 Rue des Bauches, 75016 Paris'\n",
    "\n",
    "# Check \n",
    "df[~df['address'].str.contains('Paris')]"
   ]
  },
  {
   "cell_type": "markdown",
   "id": "dcf2c12f",
   "metadata": {},
   "source": [
    "#### Look for the empties in each columns"
   ]
  },
  {
   "cell_type": "code",
   "execution_count": 6,
   "id": "4fc2ce16",
   "metadata": {},
   "outputs": [
    {
     "data": {
      "text/plain": [
       "name             0\n",
       "average_rate     0\n",
       "nb_of_reviews    0\n",
       "address          0\n",
       "dtype: int64"
      ]
     },
     "execution_count": 6,
     "metadata": {},
     "output_type": "execute_result"
    }
   ],
   "source": [
    "df.isna().sum()"
   ]
  },
  {
   "cell_type": "markdown",
   "id": "6b8637d3",
   "metadata": {},
   "source": [
    "#### Display types of each column an change type of columns"
   ]
  },
  {
   "cell_type": "code",
   "execution_count": 7,
   "id": "0b29a527",
   "metadata": {},
   "outputs": [
    {
     "data": {
      "text/plain": [
       "name              object\n",
       "average_rate     float64\n",
       "nb_of_reviews      int64\n",
       "address           object\n",
       "dtype: object"
      ]
     },
     "execution_count": 7,
     "metadata": {},
     "output_type": "execute_result"
    }
   ],
   "source": [
    "df.dtypes\n",
    "# modification of average rate\n",
    "df['average_rate'] = df['average_rate'].str.replace(',','.')\n",
    "df['average_rate'] = pd.to_numeric(df['average_rate'])\n",
    "\n",
    "# We are going to use .str accessor for the name and address\n",
    "\n",
    "df.dtypes"
   ]
  },
  {
   "cell_type": "markdown",
   "id": "749e45e7",
   "metadata": {},
   "source": [
    "#### Display unique values of average_rate and nb_of_reviews columns"
   ]
  },
  {
   "cell_type": "code",
   "execution_count": 8,
   "id": "8614a7e0",
   "metadata": {},
   "outputs": [],
   "source": [
    "# df.average_rate.unique()\n",
    "# df.nb_of_reviews.unique()"
   ]
  },
  {
   "cell_type": "markdown",
   "id": "a14ea769",
   "metadata": {},
   "source": [
    "### Transform the data"
   ]
  },
  {
   "cell_type": "markdown",
   "id": "f91e3d49",
   "metadata": {},
   "source": [
    "#### Add a \"city\" column"
   ]
  },
  {
   "cell_type": "code",
   "execution_count": 9,
   "id": "1d9e83d3",
   "metadata": {},
   "outputs": [],
   "source": [
    "# Split the column and transform it into Series\n",
    "splitted_series = df.address.str.split(expand=False)\n",
    "\n",
    "list_of_cities = []\n",
    "# create a list of the cities\n",
    "for city in splitted_series:\n",
    "    list_of_cities.append(city[-1])\n",
    "    \n",
    "df['city'] = list_of_cities"
   ]
  },
  {
   "cell_type": "markdown",
   "id": "83c8d025",
   "metadata": {},
   "source": [
    "### Add a \"postal_code\" column"
   ]
  },
  {
   "cell_type": "code",
   "execution_count": 10,
   "id": "8d97e674",
   "metadata": {},
   "outputs": [],
   "source": [
    "splitted_series = df.address.str.split(expand=False)\n",
    "\n",
    "list_of_postal_code = []\n",
    "for string in splitted_series:\n",
    "    list_of_postal_code.append(string[-2])\n",
    "    \n",
    "# Check the unique values\n",
    "# set(list_of_postal_code)\n",
    "# len(list_of_postal_code)\n",
    "\n",
    "df['postal_code'] = list_of_postal_code"
   ]
  },
  {
   "cell_type": "code",
   "execution_count": 11,
   "id": "25932f5a",
   "metadata": {},
   "outputs": [],
   "source": [
    "# Modification of the 75116 by 75016\n",
    "df['postal_code'] = df['postal_code'].replace('75116', '75016')"
   ]
  },
  {
   "cell_type": "code",
   "execution_count": 12,
   "id": "9c7e1ef1",
   "metadata": {},
   "outputs": [],
   "source": [
    "df.to_csv('basic_data_cleaned.csv', sep = '|')"
   ]
  },
  {
   "cell_type": "markdown",
   "id": "7c02e608",
   "metadata": {},
   "source": [
    "## Analysis\n",
    "### Statistics by district"
   ]
  },
  {
   "cell_type": "markdown",
   "id": "440acbfb",
   "metadata": {},
   "source": [
    "#### First three districts by number of pizzerias"
   ]
  },
  {
   "cell_type": "code",
   "execution_count": 13,
   "id": "ec1681e4",
   "metadata": {},
   "outputs": [
    {
     "data": {
      "text/plain": [
       "postal_code\n",
       "75016    103\n",
       "75005     68\n",
       "75001     62\n",
       "Name: postal_code, dtype: int64"
      ]
     },
     "execution_count": 13,
     "metadata": {},
     "output_type": "execute_result"
    }
   ],
   "source": [
    "df.groupby(['postal_code'])['postal_code'].count().nlargest(3)"
   ]
  },
  {
   "cell_type": "markdown",
   "id": "34be9bb7",
   "metadata": {},
   "source": [
    "#### First three district by average rating "
   ]
  },
  {
   "cell_type": "code",
   "execution_count": 14,
   "id": "87a959d1",
   "metadata": {},
   "outputs": [
    {
     "data": {
      "text/plain": [
       "postal_code\n",
       "75009    4.688889\n",
       "75010    4.600000\n",
       "75020    4.550000\n",
       "Name: average_rate, dtype: float64"
      ]
     },
     "execution_count": 14,
     "metadata": {},
     "output_type": "execute_result"
    }
   ],
   "source": [
    "df.groupby(['postal_code'])['average_rate'].mean().nlargest(3)"
   ]
  },
  {
   "cell_type": "markdown",
   "id": "9974e58f",
   "metadata": {},
   "source": [
    "#### First three pizzerias of each district by average rate"
   ]
  },
  {
   "cell_type": "code",
   "execution_count": 15,
   "id": "8a013f0b",
   "metadata": {},
   "outputs": [],
   "source": [
    "# val = input(\"Entrer the district you want :\")\n",
    "\n",
    "# df_3 = df.loc[df['postal_code'] == val].sort_values(by=['average_rate'], ascending=False).head(3)"
   ]
  },
  {
   "cell_type": "code",
   "execution_count": 16,
   "id": "e92264e4",
   "metadata": {},
   "outputs": [
    {
     "data": {
      "text/html": [
       "<div>\n",
       "<style scoped>\n",
       "    .dataframe tbody tr th:only-of-type {\n",
       "        vertical-align: middle;\n",
       "    }\n",
       "\n",
       "    .dataframe tbody tr th {\n",
       "        vertical-align: top;\n",
       "    }\n",
       "\n",
       "    .dataframe thead th {\n",
       "        text-align: right;\n",
       "    }\n",
       "</style>\n",
       "<table border=\"1\" class=\"dataframe\">\n",
       "  <thead>\n",
       "    <tr style=\"text-align: right;\">\n",
       "      <th></th>\n",
       "      <th>name</th>\n",
       "      <th>average_rate</th>\n",
       "      <th>nb_of_reviews</th>\n",
       "      <th>postal_code</th>\n",
       "    </tr>\n",
       "  </thead>\n",
       "  <tbody>\n",
       "    <tr>\n",
       "      <th>118</th>\n",
       "      <td>Univers Pizza</td>\n",
       "      <td>5.0</td>\n",
       "      <td>80</td>\n",
       "      <td>75005</td>\n",
       "    </tr>\n",
       "    <tr>\n",
       "      <th>168</th>\n",
       "      <td>Panuozzo</td>\n",
       "      <td>5.0</td>\n",
       "      <td>1</td>\n",
       "      <td>75005</td>\n",
       "    </tr>\n",
       "    <tr>\n",
       "      <th>48</th>\n",
       "      <td>Pizza Democrazia</td>\n",
       "      <td>5.0</td>\n",
       "      <td>1</td>\n",
       "      <td>75001</td>\n",
       "    </tr>\n",
       "    <tr>\n",
       "      <th>91</th>\n",
       "      <td>PALLA PIZZA</td>\n",
       "      <td>5.0</td>\n",
       "      <td>2</td>\n",
       "      <td>75010</td>\n",
       "    </tr>\n",
       "    <tr>\n",
       "      <th>379</th>\n",
       "      <td>Chez Achille</td>\n",
       "      <td>4.9</td>\n",
       "      <td>175</td>\n",
       "      <td>75016</td>\n",
       "    </tr>\n",
       "    <tr>\n",
       "      <th>...</th>\n",
       "      <td>...</td>\n",
       "      <td>...</td>\n",
       "      <td>...</td>\n",
       "      <td>...</td>\n",
       "    </tr>\n",
       "    <tr>\n",
       "      <th>281</th>\n",
       "      <td>Domino's Pizza Paris 13 - Tolbiac</td>\n",
       "      <td>2.6</td>\n",
       "      <td>297</td>\n",
       "      <td>75013</td>\n",
       "    </tr>\n",
       "    <tr>\n",
       "      <th>176</th>\n",
       "      <td>Les Balkans</td>\n",
       "      <td>2.5</td>\n",
       "      <td>82</td>\n",
       "      <td>75005</td>\n",
       "    </tr>\n",
       "    <tr>\n",
       "      <th>39</th>\n",
       "      <td>ACDS Restauration</td>\n",
       "      <td>2.5</td>\n",
       "      <td>2</td>\n",
       "      <td>75001</td>\n",
       "    </tr>\n",
       "    <tr>\n",
       "      <th>358</th>\n",
       "      <td>Pizzeria Tradition</td>\n",
       "      <td>2.0</td>\n",
       "      <td>8</td>\n",
       "      <td>75016</td>\n",
       "    </tr>\n",
       "    <tr>\n",
       "      <th>365</th>\n",
       "      <td>Pizza Del Capo</td>\n",
       "      <td>1.5</td>\n",
       "      <td>8</td>\n",
       "      <td>75016</td>\n",
       "    </tr>\n",
       "  </tbody>\n",
       "</table>\n",
       "<p>453 rows × 4 columns</p>\n",
       "</div>"
      ],
      "text/plain": [
       "                                  name  average_rate  nb_of_reviews  \\\n",
       "118                      Univers Pizza           5.0             80   \n",
       "168                           Panuozzo           5.0              1   \n",
       "48                    Pizza Democrazia           5.0              1   \n",
       "91                         PALLA PIZZA           5.0              2   \n",
       "379                       Chez Achille           4.9            175   \n",
       "..                                 ...           ...            ...   \n",
       "281  Domino's Pizza Paris 13 - Tolbiac           2.6            297   \n",
       "176                        Les Balkans           2.5             82   \n",
       "39                   ACDS Restauration           2.5              2   \n",
       "358                 Pizzeria Tradition           2.0              8   \n",
       "365                     Pizza Del Capo           1.5              8   \n",
       "\n",
       "    postal_code  \n",
       "118       75005  \n",
       "168       75005  \n",
       "48        75001  \n",
       "91        75010  \n",
       "379       75016  \n",
       "..          ...  \n",
       "281       75013  \n",
       "176       75005  \n",
       "39        75001  \n",
       "358       75016  \n",
       "365       75016  \n",
       "\n",
       "[453 rows x 4 columns]"
      ]
     },
     "execution_count": 16,
     "metadata": {},
     "output_type": "execute_result"
    }
   ],
   "source": [
    "df_3 = df.sort_values(by=['average_rate'], ascending=False)\n",
    "df_3 = df_3.drop(['address', 'city'], axis=1)\n",
    "df_3"
   ]
  },
  {
   "cell_type": "markdown",
   "id": "d15f2eb1",
   "metadata": {},
   "source": [
    "#### First three pizzerias of each district by number of reviews"
   ]
  },
  {
   "cell_type": "code",
   "execution_count": 17,
   "id": "ffe1d9bb",
   "metadata": {},
   "outputs": [],
   "source": [
    "# val = input(\"Entrer the district you want :\")\n",
    "\n",
    "# df.loc[df['postal_code'] == val].sort_values(by=['nb_of_reviews'], ascending=False).head(3)"
   ]
  },
  {
   "cell_type": "markdown",
   "id": "efd34c08",
   "metadata": {},
   "source": [
    "### Example for the graph"
   ]
  },
  {
   "cell_type": "code",
   "execution_count": 18,
   "id": "eaead433",
   "metadata": {},
   "outputs": [
    {
     "data": {
      "text/html": [
       "<div>\n",
       "<style scoped>\n",
       "    .dataframe tbody tr th:only-of-type {\n",
       "        vertical-align: middle;\n",
       "    }\n",
       "\n",
       "    .dataframe tbody tr th {\n",
       "        vertical-align: top;\n",
       "    }\n",
       "\n",
       "    .dataframe thead th {\n",
       "        text-align: right;\n",
       "    }\n",
       "</style>\n",
       "<table border=\"1\" class=\"dataframe\">\n",
       "  <thead>\n",
       "    <tr style=\"text-align: right;\">\n",
       "      <th></th>\n",
       "      <th>name</th>\n",
       "      <th>average_rate</th>\n",
       "      <th>nb_of_reviews</th>\n",
       "      <th>postal_code</th>\n",
       "    </tr>\n",
       "  </thead>\n",
       "  <tbody>\n",
       "    <tr>\n",
       "      <th>118</th>\n",
       "      <td>Univers Pizza</td>\n",
       "      <td>5.0</td>\n",
       "      <td>80</td>\n",
       "      <td>75005</td>\n",
       "    </tr>\n",
       "    <tr>\n",
       "      <th>168</th>\n",
       "      <td>Panuozzo</td>\n",
       "      <td>5.0</td>\n",
       "      <td>1</td>\n",
       "      <td>75005</td>\n",
       "    </tr>\n",
       "    <tr>\n",
       "      <th>48</th>\n",
       "      <td>Pizza Democrazia</td>\n",
       "      <td>5.0</td>\n",
       "      <td>1</td>\n",
       "      <td>75001</td>\n",
       "    </tr>\n",
       "    <tr>\n",
       "      <th>91</th>\n",
       "      <td>PALLA PIZZA</td>\n",
       "      <td>5.0</td>\n",
       "      <td>2</td>\n",
       "      <td>75010</td>\n",
       "    </tr>\n",
       "    <tr>\n",
       "      <th>379</th>\n",
       "      <td>Chez Achille</td>\n",
       "      <td>4.9</td>\n",
       "      <td>175</td>\n",
       "      <td>75016</td>\n",
       "    </tr>\n",
       "    <tr>\n",
       "      <th>...</th>\n",
       "      <td>...</td>\n",
       "      <td>...</td>\n",
       "      <td>...</td>\n",
       "      <td>...</td>\n",
       "    </tr>\n",
       "    <tr>\n",
       "      <th>281</th>\n",
       "      <td>Domino's Pizza Paris 13 - Tolbiac</td>\n",
       "      <td>2.6</td>\n",
       "      <td>297</td>\n",
       "      <td>75013</td>\n",
       "    </tr>\n",
       "    <tr>\n",
       "      <th>176</th>\n",
       "      <td>Les Balkans</td>\n",
       "      <td>2.5</td>\n",
       "      <td>82</td>\n",
       "      <td>75005</td>\n",
       "    </tr>\n",
       "    <tr>\n",
       "      <th>39</th>\n",
       "      <td>ACDS Restauration</td>\n",
       "      <td>2.5</td>\n",
       "      <td>2</td>\n",
       "      <td>75001</td>\n",
       "    </tr>\n",
       "    <tr>\n",
       "      <th>358</th>\n",
       "      <td>Pizzeria Tradition</td>\n",
       "      <td>2.0</td>\n",
       "      <td>8</td>\n",
       "      <td>75016</td>\n",
       "    </tr>\n",
       "    <tr>\n",
       "      <th>365</th>\n",
       "      <td>Pizza Del Capo</td>\n",
       "      <td>1.5</td>\n",
       "      <td>8</td>\n",
       "      <td>75016</td>\n",
       "    </tr>\n",
       "  </tbody>\n",
       "</table>\n",
       "<p>453 rows × 4 columns</p>\n",
       "</div>"
      ],
      "text/plain": [
       "                                  name  average_rate  nb_of_reviews  \\\n",
       "118                      Univers Pizza           5.0             80   \n",
       "168                           Panuozzo           5.0              1   \n",
       "48                    Pizza Democrazia           5.0              1   \n",
       "91                         PALLA PIZZA           5.0              2   \n",
       "379                       Chez Achille           4.9            175   \n",
       "..                                 ...           ...            ...   \n",
       "281  Domino's Pizza Paris 13 - Tolbiac           2.6            297   \n",
       "176                        Les Balkans           2.5             82   \n",
       "39                   ACDS Restauration           2.5              2   \n",
       "358                 Pizzeria Tradition           2.0              8   \n",
       "365                     Pizza Del Capo           1.5              8   \n",
       "\n",
       "    postal_code  \n",
       "118       75005  \n",
       "168       75005  \n",
       "48        75001  \n",
       "91        75010  \n",
       "379       75016  \n",
       "..          ...  \n",
       "281       75013  \n",
       "176       75005  \n",
       "39        75001  \n",
       "358       75016  \n",
       "365       75016  \n",
       "\n",
       "[453 rows x 4 columns]"
      ]
     },
     "execution_count": 18,
     "metadata": {},
     "output_type": "execute_result"
    }
   ],
   "source": [
    "df_3 = df.sort_values(by=['average_rate'], ascending=False)\n",
    "df_3 = df_3.drop(['address', 'city'], axis=1)\n",
    "df_3"
   ]
  },
  {
   "cell_type": "markdown",
   "id": "b76214b4",
   "metadata": {},
   "source": [
    "## Vizualization with Dash"
   ]
  },
  {
   "cell_type": "code",
   "execution_count": 19,
   "id": "35862def",
   "metadata": {},
   "outputs": [
    {
     "name": "stdout",
     "output_type": "stream",
     "text": [
      "Dash app running on http://127.0.0.1:8050/\n"
     ]
    }
   ],
   "source": [
    "import jupyter_dash\n",
    "from jupyter_dash import JupyterDash\n",
    "import plotly.express as px\n",
    "\n",
    "import dash\n",
    "import dash_bootstrap_components as dbc\n",
    "from dash.dependencies import Input, Output\n",
    "from dash import dcc, html\n",
    "\n",
    "\n",
    "jupyter_dash.JupyterDash\n",
    "\n",
    "app = JupyterDash(__name__, external_stylesheets=[dbc.themes.CYBORG])\n",
    "\n",
    "app.layout = html.Div(children=\n",
    "    [\n",
    "    html.H1(children='Hello Dash'),\n",
    "\n",
    "    html.Div(children='''\n",
    "        Dash: A web application framework for your data.\n",
    "    '''),\n",
    "    html.Div(\n",
    "        dash.dcc.Dropdown(options= df_3['postal_code'].sort_values().unique(),\n",
    "        id=\"district-filter\",\n",
    "        value = df_3['postal_code'].min()\n",
    "        )),\n",
    "    \n",
    "    dcc.Graph(id='graph-with-dropdown'),\n",
    "    ]\n",
    ")\n",
    "\n",
    "@app.callback(\n",
    "    Output('graph-with-dropdown', 'figure'),\n",
    "    Input('district-filter', 'value')\n",
    ")\n",
    "\n",
    "def update_figure(selected_district):\n",
    "    filtered_df = df_3[df_3.postal_code == selected_district].head(5)\n",
    "    \n",
    "    fig = px.bar(filtered_df, \n",
    "                 x='name', y='average_rate', barmode=\"group\",\n",
    "                template='plotly_dark')\n",
    "\n",
    "    fig.update_layout(transition_duration=500, yaxis_range=[filtered_df['average_rate'].min() - 0.2 ,5])\n",
    "    \n",
    "    return fig\n",
    "    \n",
    "if __name__ == '__main__':\n",
    "    app.run_server(debug=True)"
   ]
  }
 ],
 "metadata": {
  "kernelspec": {
   "display_name": "Python 3 (ipykernel)",
   "language": "python",
   "name": "python3"
  },
  "language_info": {
   "codemirror_mode": {
    "name": "ipython",
    "version": 3
   },
   "file_extension": ".py",
   "mimetype": "text/x-python",
   "name": "python",
   "nbconvert_exporter": "python",
   "pygments_lexer": "ipython3",
   "version": "3.10.6"
  }
 },
 "nbformat": 4,
 "nbformat_minor": 5
}
