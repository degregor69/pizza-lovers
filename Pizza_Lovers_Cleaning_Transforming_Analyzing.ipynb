{
 "cells": [
  {
   "cell_type": "markdown",
   "id": "a080cbd8",
   "metadata": {},
   "source": [
    "# Pizza Lovers\n",
    "## Your data analysis of pizzerias in Paris"
   ]
  },
  {
   "cell_type": "markdown",
   "id": "4c2a6bd6",
   "metadata": {},
   "source": [
    "### Import of the data"
   ]
  },
  {
   "cell_type": "code",
   "execution_count": 1,
   "id": "a618ff03",
   "metadata": {},
   "outputs": [],
   "source": [
    "import pandas as pd\n",
    "import numpy as np\n",
    "\n",
    "df = pd.read_csv('inputs_from_exterior/basic_data.csv', delimiter = '|')"
   ]
  },
  {
   "cell_type": "markdown",
   "id": "2bd080e9",
   "metadata": {},
   "source": [
    "### Merge with new scraping"
   ]
  },
  {
   "cell_type": "code",
   "execution_count": 2,
   "id": "9a78b380",
   "metadata": {},
   "outputs": [],
   "source": [
    "new_df = pd.read_csv('inputs_from_exterior/basic_data_75020_75007.csv', delimiter = '|')"
   ]
  },
  {
   "cell_type": "code",
   "execution_count": 3,
   "id": "ff5f6604",
   "metadata": {},
   "outputs": [
    {
     "data": {
      "text/html": [
       "<div>\n",
       "<style scoped>\n",
       "    .dataframe tbody tr th:only-of-type {\n",
       "        vertical-align: middle;\n",
       "    }\n",
       "\n",
       "    .dataframe tbody tr th {\n",
       "        vertical-align: top;\n",
       "    }\n",
       "\n",
       "    .dataframe thead th {\n",
       "        text-align: right;\n",
       "    }\n",
       "</style>\n",
       "<table border=\"1\" class=\"dataframe\">\n",
       "  <thead>\n",
       "    <tr style=\"text-align: right;\">\n",
       "      <th></th>\n",
       "      <th>name</th>\n",
       "      <th>average_rate</th>\n",
       "      <th>nb_of_reviews</th>\n",
       "      <th>address</th>\n",
       "    </tr>\n",
       "  </thead>\n",
       "  <tbody>\n",
       "    <tr>\n",
       "      <th>0</th>\n",
       "      <td>Pizza Wawa</td>\n",
       "      <td>4,5</td>\n",
       "      <td>1535</td>\n",
       "      <td>35 Rue Saint-Honoré, 75001 Paris</td>\n",
       "    </tr>\n",
       "    <tr>\n",
       "      <th>1</th>\n",
       "      <td>Pizzeria Iovine's</td>\n",
       "      <td>4,5</td>\n",
       "      <td>2591</td>\n",
       "      <td>7bis Rue du Colonel Driant, 75001 Paris</td>\n",
       "    </tr>\n",
       "    <tr>\n",
       "      <th>2</th>\n",
       "      <td>Milo</td>\n",
       "      <td>4,6</td>\n",
       "      <td>579</td>\n",
       "      <td>44 Rue Saint-Honoré, 75001 Paris</td>\n",
       "    </tr>\n",
       "    <tr>\n",
       "      <th>3</th>\n",
       "      <td>La Tavola Calda</td>\n",
       "      <td>4,5</td>\n",
       "      <td>513</td>\n",
       "      <td>39 Rue des Bourdonnais, 75001 Paris</td>\n",
       "    </tr>\n",
       "    <tr>\n",
       "      <th>4</th>\n",
       "      <td>Liberto</td>\n",
       "      <td>4,7</td>\n",
       "      <td>1697</td>\n",
       "      <td>23 Rue Berger, 75001 Paris</td>\n",
       "    </tr>\n",
       "    <tr>\n",
       "      <th>...</th>\n",
       "      <td>...</td>\n",
       "      <td>...</td>\n",
       "      <td>...</td>\n",
       "      <td>...</td>\n",
       "    </tr>\n",
       "    <tr>\n",
       "      <th>592</th>\n",
       "      <td>15-12</td>\n",
       "      <td>1,5</td>\n",
       "      <td>6</td>\n",
       "      <td>6 Av. Rapp, 75007 Paris</td>\n",
       "    </tr>\n",
       "    <tr>\n",
       "      <th>593</th>\n",
       "      <td>Nicole's</td>\n",
       "      <td>4,0</td>\n",
       "      <td>426</td>\n",
       "      <td>14 Rue de Bellechasse, 75007 Paris</td>\n",
       "    </tr>\n",
       "    <tr>\n",
       "      <th>594</th>\n",
       "      <td>Pizza Fiorentina</td>\n",
       "      <td>3,0</td>\n",
       "      <td>571</td>\n",
       "      <td>7 Bd de Grenelle, 75015 Paris</td>\n",
       "    </tr>\n",
       "    <tr>\n",
       "      <th>595</th>\n",
       "      <td>Primo Piano</td>\n",
       "      <td>3,9</td>\n",
       "      <td>45</td>\n",
       "      <td>Le Bon Marché, 24 Rue de Sèvres, 75007 Paris</td>\n",
       "    </tr>\n",
       "    <tr>\n",
       "      <th>596</th>\n",
       "      <td>Firmine</td>\n",
       "      <td>4,1</td>\n",
       "      <td>2580</td>\n",
       "      <td>38B Av. de Suffren, 75015 Paris</td>\n",
       "    </tr>\n",
       "  </tbody>\n",
       "</table>\n",
       "<p>597 rows × 4 columns</p>\n",
       "</div>"
      ],
      "text/plain": [
       "                  name average_rate  nb_of_reviews  \\\n",
       "0           Pizza Wawa          4,5           1535   \n",
       "1    Pizzeria Iovine's          4,5           2591   \n",
       "2                 Milo          4,6            579   \n",
       "3      La Tavola Calda          4,5            513   \n",
       "4              Liberto          4,7           1697   \n",
       "..                 ...          ...            ...   \n",
       "592              15-12          1,5              6   \n",
       "593           Nicole's          4,0            426   \n",
       "594   Pizza Fiorentina          3,0            571   \n",
       "595        Primo Piano          3,9             45   \n",
       "596            Firmine          4,1           2580   \n",
       "\n",
       "                                          address  \n",
       "0                35 Rue Saint-Honoré, 75001 Paris  \n",
       "1         7bis Rue du Colonel Driant, 75001 Paris  \n",
       "2                44 Rue Saint-Honoré, 75001 Paris  \n",
       "3             39 Rue des Bourdonnais, 75001 Paris  \n",
       "4                      23 Rue Berger, 75001 Paris  \n",
       "..                                            ...  \n",
       "592                       6 Av. Rapp, 75007 Paris  \n",
       "593            14 Rue de Bellechasse, 75007 Paris  \n",
       "594                 7 Bd de Grenelle, 75015 Paris  \n",
       "595  Le Bon Marché, 24 Rue de Sèvres, 75007 Paris  \n",
       "596               38B Av. de Suffren, 75015 Paris  \n",
       "\n",
       "[597 rows x 4 columns]"
      ]
     },
     "execution_count": 3,
     "metadata": {},
     "output_type": "execute_result"
    }
   ],
   "source": [
    "df = pd.concat([df, new_df])\n",
    "df.reset_index(drop=True, inplace=True)\n",
    "df"
   ]
  },
  {
   "cell_type": "markdown",
   "id": "be980ef7",
   "metadata": {},
   "source": [
    "### Split of the postal code and the city"
   ]
  },
  {
   "cell_type": "markdown",
   "id": "3a99718a",
   "metadata": {},
   "source": [
    "### Cleaning the data\n",
    "#### Remove duplicates"
   ]
  },
  {
   "cell_type": "code",
   "execution_count": 4,
   "id": "76b6d187",
   "metadata": {},
   "outputs": [],
   "source": [
    "df = df.drop_duplicates()"
   ]
  },
  {
   "cell_type": "markdown",
   "id": "85d4949d",
   "metadata": {},
   "source": [
    "#### Show the restaurants that do not have Paris in their address"
   ]
  },
  {
   "cell_type": "code",
   "execution_count": 5,
   "id": "dd61b444",
   "metadata": {},
   "outputs": [],
   "source": [
    "pd.set_option('display.max_rows', None)\n",
    "df[~df['address'].str.contains('Paris')]\n",
    "\n",
    "# Deleting the 306th, 411th, 513th, 519th, 520th because they are not in Paris\n",
    "\n",
    "df = df.drop([306, 411, 513, 519, 528])\n",
    "df[~df['address'].str.contains('Paris')]\n",
    "pd.set_option('display.max_rows', 10)"
   ]
  },
  {
   "cell_type": "code",
   "execution_count": 6,
   "id": "73e0191f",
   "metadata": {},
   "outputs": [
    {
     "data": {
      "text/html": [
       "<div>\n",
       "<style scoped>\n",
       "    .dataframe tbody tr th:only-of-type {\n",
       "        vertical-align: middle;\n",
       "    }\n",
       "\n",
       "    .dataframe tbody tr th {\n",
       "        vertical-align: top;\n",
       "    }\n",
       "\n",
       "    .dataframe thead th {\n",
       "        text-align: right;\n",
       "    }\n",
       "</style>\n",
       "<table border=\"1\" class=\"dataframe\">\n",
       "  <thead>\n",
       "    <tr style=\"text-align: right;\">\n",
       "      <th></th>\n",
       "      <th>name</th>\n",
       "      <th>average_rate</th>\n",
       "      <th>nb_of_reviews</th>\n",
       "      <th>address</th>\n",
       "    </tr>\n",
       "  </thead>\n",
       "  <tbody>\n",
       "  </tbody>\n",
       "</table>\n",
       "</div>"
      ],
      "text/plain": [
       "Empty DataFrame\n",
       "Columns: [name, average_rate, nb_of_reviews, address]\n",
       "Index: []"
      ]
     },
     "execution_count": 6,
     "metadata": {},
     "output_type": "execute_result"
    }
   ],
   "source": [
    "# Examine the address of the last one\n",
    "df[df['name'].str.contains('CAMPISI')]\n",
    "df.at[369, 'address'] = 'Angle rue de Boulanvilliers, 1 Rue des Bauches, 75016 Paris'\n",
    "\n",
    "# Check \n",
    "df[~df['address'].str.contains('Paris')]"
   ]
  },
  {
   "cell_type": "markdown",
   "id": "dcf2c12f",
   "metadata": {},
   "source": [
    "#### Look for the empties in each columns"
   ]
  },
  {
   "cell_type": "code",
   "execution_count": 7,
   "id": "4fc2ce16",
   "metadata": {},
   "outputs": [
    {
     "data": {
      "text/plain": [
       "name             0\n",
       "average_rate     0\n",
       "nb_of_reviews    0\n",
       "address          0\n",
       "dtype: int64"
      ]
     },
     "execution_count": 7,
     "metadata": {},
     "output_type": "execute_result"
    }
   ],
   "source": [
    "df.isna().sum()"
   ]
  },
  {
   "cell_type": "markdown",
   "id": "6b8637d3",
   "metadata": {},
   "source": [
    "#### Display types of each column an change type of columns"
   ]
  },
  {
   "cell_type": "code",
   "execution_count": 8,
   "id": "0b29a527",
   "metadata": {},
   "outputs": [
    {
     "data": {
      "text/plain": [
       "name              object\n",
       "average_rate     float64\n",
       "nb_of_reviews      int64\n",
       "address           object\n",
       "dtype: object"
      ]
     },
     "execution_count": 8,
     "metadata": {},
     "output_type": "execute_result"
    }
   ],
   "source": [
    "df.dtypes\n",
    "# modification of average rate\n",
    "df['average_rate'] = df['average_rate'].str.replace(',','.')\n",
    "df['average_rate'] = pd.to_numeric(df['average_rate'])\n",
    "\n",
    "# We are going to use .str accessor for the name and address\n",
    "\n",
    "df.dtypes"
   ]
  },
  {
   "cell_type": "markdown",
   "id": "749e45e7",
   "metadata": {},
   "source": [
    "#### Display unique values of average_rate and nb_of_reviews columns"
   ]
  },
  {
   "cell_type": "code",
   "execution_count": 9,
   "id": "8614a7e0",
   "metadata": {},
   "outputs": [],
   "source": [
    "# df.average_rate.unique()\n",
    "# df.nb_of_reviews.unique()"
   ]
  },
  {
   "cell_type": "markdown",
   "id": "a14ea769",
   "metadata": {},
   "source": [
    "### Transform the data"
   ]
  },
  {
   "cell_type": "markdown",
   "id": "f91e3d49",
   "metadata": {},
   "source": [
    "#### Add a \"city\" column"
   ]
  },
  {
   "cell_type": "code",
   "execution_count": 10,
   "id": "1d9e83d3",
   "metadata": {},
   "outputs": [],
   "source": [
    "# Split the column and transform it into Series\n",
    "splitted_series = df.address.str.split(expand=False)\n",
    "\n",
    "list_of_cities = []\n",
    "# create a list of the cities\n",
    "for city in splitted_series:\n",
    "    list_of_cities.append(city[-1])\n",
    "    \n",
    "df['city'] = list_of_cities"
   ]
  },
  {
   "cell_type": "markdown",
   "id": "83c8d025",
   "metadata": {},
   "source": [
    "### Add a \"postal_code\" column"
   ]
  },
  {
   "cell_type": "code",
   "execution_count": 11,
   "id": "8d97e674",
   "metadata": {},
   "outputs": [],
   "source": [
    "splitted_series = df.address.str.split(expand=False)\n",
    "\n",
    "list_of_postal_code = []\n",
    "for string in splitted_series:\n",
    "    list_of_postal_code.append(string[-2])\n",
    "    \n",
    "# Check the unique values\n",
    "# set(list_of_postal_code)\n",
    "# len(list_of_postal_code)\n",
    "\n",
    "df['postal_code'] = list_of_postal_code"
   ]
  },
  {
   "cell_type": "code",
   "execution_count": 12,
   "id": "25932f5a",
   "metadata": {},
   "outputs": [],
   "source": [
    "# Modification of the 75116 by 75016\n",
    "df['postal_code'] = df['postal_code'].replace('75116', '75016')"
   ]
  },
  {
   "cell_type": "markdown",
   "id": "77341f56",
   "metadata": {},
   "source": [
    "### Add the latitude and longitude"
   ]
  },
  {
   "cell_type": "code",
   "execution_count": 13,
   "id": "b6d205e0",
   "metadata": {},
   "outputs": [],
   "source": [
    "# from geopy.geocoders import Nominatim\n",
    "# geolocator = Nominatim(user_agent=\"pizza_lovers_THP\")\n",
    "\n",
    "# from geopy.extra.rate_limiter import RateLimiter\n",
    "# geocode = RateLimiter(geolocator.geocode, min_delay_seconds=1)\n",
    "\n",
    "# df['location'] = df['address'].apply(geocode)\n",
    "\n",
    "# df['point'] = df['location'].apply(lambda loc: tuple(loc.point) if loc else None)"
   ]
  },
  {
   "cell_type": "markdown",
   "id": "d0976961",
   "metadata": {},
   "source": [
    "#### Check the number of none"
   ]
  },
  {
   "cell_type": "code",
   "execution_count": 14,
   "id": "fc3dce58",
   "metadata": {},
   "outputs": [],
   "source": [
    "# df.groupby(a['point'])['point'].count().sort_values(ascending=False).head(24\n",
    "#     )"
   ]
  },
  {
   "cell_type": "markdown",
   "id": "da9a8dfc",
   "metadata": {},
   "source": [
    "### Print to CSV"
   ]
  },
  {
   "cell_type": "code",
   "execution_count": 15,
   "id": "9c7e1ef1",
   "metadata": {},
   "outputs": [],
   "source": [
    "df.to_csv('inputs_from_processing/basic_data_cleaned.csv', sep = '|')"
   ]
  },
  {
   "cell_type": "markdown",
   "id": "7c02e608",
   "metadata": {},
   "source": [
    "## Analysis\n",
    "### Statistics by district"
   ]
  },
  {
   "cell_type": "markdown",
   "id": "440acbfb",
   "metadata": {},
   "source": [
    "#### First three districts by number of pizzerias"
   ]
  },
  {
   "cell_type": "code",
   "execution_count": 16,
   "id": "ec1681e4",
   "metadata": {},
   "outputs": [
    {
     "data": {
      "text/plain": [
       "postal_code\n",
       "75016    103\n",
       "75005     68\n",
       "75001     63\n",
       "Name: postal_code, dtype: int64"
      ]
     },
     "execution_count": 16,
     "metadata": {},
     "output_type": "execute_result"
    }
   ],
   "source": [
    "df.groupby(['postal_code'])['postal_code'].count().nlargest(3)"
   ]
  },
  {
   "cell_type": "markdown",
   "id": "34be9bb7",
   "metadata": {},
   "source": [
    "#### First three district by average rating "
   ]
  },
  {
   "cell_type": "code",
   "execution_count": 17,
   "id": "87a959d1",
   "metadata": {},
   "outputs": [
    {
     "data": {
      "text/plain": [
       "postal_code\n",
       "75009    4.688889\n",
       "75003    4.540000\n",
       "75014    4.490909\n",
       "Name: average_rate, dtype: float64"
      ]
     },
     "execution_count": 17,
     "metadata": {},
     "output_type": "execute_result"
    }
   ],
   "source": [
    "df.groupby(['postal_code'])['average_rate'].mean().nlargest(3)"
   ]
  },
  {
   "cell_type": "markdown",
   "id": "9974e58f",
   "metadata": {},
   "source": [
    "#### First three pizzerias of each district by average rate"
   ]
  },
  {
   "cell_type": "code",
   "execution_count": 18,
   "id": "8a013f0b",
   "metadata": {},
   "outputs": [],
   "source": [
    "# val = input(\"Entrer the district you want :\")\n",
    "\n",
    "# df_3 = df.loc[df['postal_code'] == val].sort_values(by=['average_rate'], ascending=False).head(3)"
   ]
  },
  {
   "cell_type": "code",
   "execution_count": 19,
   "id": "e92264e4",
   "metadata": {},
   "outputs": [
    {
     "data": {
      "text/html": [
       "<div>\n",
       "<style scoped>\n",
       "    .dataframe tbody tr th:only-of-type {\n",
       "        vertical-align: middle;\n",
       "    }\n",
       "\n",
       "    .dataframe tbody tr th {\n",
       "        vertical-align: top;\n",
       "    }\n",
       "\n",
       "    .dataframe thead th {\n",
       "        text-align: right;\n",
       "    }\n",
       "</style>\n",
       "<table border=\"1\" class=\"dataframe\">\n",
       "  <thead>\n",
       "    <tr style=\"text-align: right;\">\n",
       "      <th></th>\n",
       "      <th>name</th>\n",
       "      <th>average_rate</th>\n",
       "      <th>nb_of_reviews</th>\n",
       "      <th>postal_code</th>\n",
       "    </tr>\n",
       "  </thead>\n",
       "  <tbody>\n",
       "    <tr>\n",
       "      <th>91</th>\n",
       "      <td>PALLA PIZZA</td>\n",
       "      <td>5.0</td>\n",
       "      <td>2</td>\n",
       "      <td>75010</td>\n",
       "    </tr>\n",
       "    <tr>\n",
       "      <th>168</th>\n",
       "      <td>Panuozzo</td>\n",
       "      <td>5.0</td>\n",
       "      <td>1</td>\n",
       "      <td>75005</td>\n",
       "    </tr>\n",
       "    <tr>\n",
       "      <th>521</th>\n",
       "      <td>Clip Pizza</td>\n",
       "      <td>5.0</td>\n",
       "      <td>1</td>\n",
       "      <td>75020</td>\n",
       "    </tr>\n",
       "    <tr>\n",
       "      <th>118</th>\n",
       "      <td>Univers Pizza</td>\n",
       "      <td>5.0</td>\n",
       "      <td>80</td>\n",
       "      <td>75005</td>\n",
       "    </tr>\n",
       "    <tr>\n",
       "      <th>511</th>\n",
       "      <td>Pizzeria Palermo</td>\n",
       "      <td>5.0</td>\n",
       "      <td>3</td>\n",
       "      <td>75020</td>\n",
       "    </tr>\n",
       "    <tr>\n",
       "      <th>...</th>\n",
       "      <td>...</td>\n",
       "      <td>...</td>\n",
       "      <td>...</td>\n",
       "      <td>...</td>\n",
       "    </tr>\n",
       "    <tr>\n",
       "      <th>39</th>\n",
       "      <td>ACDS Restauration</td>\n",
       "      <td>2.5</td>\n",
       "      <td>2</td>\n",
       "      <td>75001</td>\n",
       "    </tr>\n",
       "    <tr>\n",
       "      <th>176</th>\n",
       "      <td>Les Balkans</td>\n",
       "      <td>2.5</td>\n",
       "      <td>82</td>\n",
       "      <td>75005</td>\n",
       "    </tr>\n",
       "    <tr>\n",
       "      <th>358</th>\n",
       "      <td>Pizzeria Tradition</td>\n",
       "      <td>2.0</td>\n",
       "      <td>8</td>\n",
       "      <td>75016</td>\n",
       "    </tr>\n",
       "    <tr>\n",
       "      <th>592</th>\n",
       "      <td>15-12</td>\n",
       "      <td>1.5</td>\n",
       "      <td>6</td>\n",
       "      <td>75007</td>\n",
       "    </tr>\n",
       "    <tr>\n",
       "      <th>365</th>\n",
       "      <td>Pizza Del Capo</td>\n",
       "      <td>1.5</td>\n",
       "      <td>8</td>\n",
       "      <td>75016</td>\n",
       "    </tr>\n",
       "  </tbody>\n",
       "</table>\n",
       "<p>565 rows × 4 columns</p>\n",
       "</div>"
      ],
      "text/plain": [
       "                   name  average_rate  nb_of_reviews postal_code\n",
       "91          PALLA PIZZA           5.0              2       75010\n",
       "168            Panuozzo           5.0              1       75005\n",
       "521          Clip Pizza           5.0              1       75020\n",
       "118       Univers Pizza           5.0             80       75005\n",
       "511    Pizzeria Palermo           5.0              3       75020\n",
       "..                  ...           ...            ...         ...\n",
       "39    ACDS Restauration           2.5              2       75001\n",
       "176         Les Balkans           2.5             82       75005\n",
       "358  Pizzeria Tradition           2.0              8       75016\n",
       "592               15-12           1.5              6       75007\n",
       "365      Pizza Del Capo           1.5              8       75016\n",
       "\n",
       "[565 rows x 4 columns]"
      ]
     },
     "execution_count": 19,
     "metadata": {},
     "output_type": "execute_result"
    }
   ],
   "source": [
    "df_3 = df.sort_values(by=['average_rate'], ascending=False)\n",
    "df_3 = df_3.drop(['address', 'city'], axis=1)\n",
    "df_3"
   ]
  },
  {
   "cell_type": "markdown",
   "id": "d15f2eb1",
   "metadata": {},
   "source": [
    "#### First three pizzerias of each district by number of reviews"
   ]
  },
  {
   "cell_type": "code",
   "execution_count": 20,
   "id": "ffe1d9bb",
   "metadata": {},
   "outputs": [],
   "source": [
    "# val = input(\"Entrer the district you want :\")\n",
    "\n",
    "# df.loc[df['postal_code'] == val].sort_values(by=['nb_of_reviews'], ascending=False).head(3)"
   ]
  },
  {
   "cell_type": "markdown",
   "id": "efd34c08",
   "metadata": {},
   "source": [
    "# Dash\n",
    "## Examples for the graph"
   ]
  },
  {
   "cell_type": "code",
   "execution_count": 21,
   "id": "eaead433",
   "metadata": {},
   "outputs": [],
   "source": [
    "df_graph = df.sort_values(by=['average_rate'], ascending=False)\n",
    "df_graph = df_graph.drop(['address', 'city'], axis=1)\n",
    "df_graph\n",
    "\n",
    "\n",
    "def df_graph_top_5_by_rating(df, district_number):\n",
    "    return df[df.postal_code == district_number].sort_values(by=['average_rate'], ascending=False).head(5)\n",
    "\n",
    "def df_graph_top_5_by_nb_reviews(df, district_number):\n",
    "    return df[df.postal_code == district_number].sort_values(by=['nb_of_reviews'], ascending=False).head(5)\n",
    "\n",
    "def series_top_5_district_by_average_rate(df):\n",
    "    return df.groupby(['postal_code'])['average_rate'].mean().nlargest(5)\n"
   ]
  },
  {
   "cell_type": "markdown",
   "id": "b76214b4",
   "metadata": {},
   "source": [
    "## Vizualization with Dash"
   ]
  },
  {
   "cell_type": "code",
   "execution_count": 22,
   "id": "35862def",
   "metadata": {},
   "outputs": [
    {
     "name": "stdout",
     "output_type": "stream",
     "text": [
      "Dash app running on http://127.0.0.1:8050/\n"
     ]
    }
   ],
   "source": [
    "import jupyter_dash\n",
    "from jupyter_dash import JupyterDash\n",
    "import plotly.express as px\n",
    "\n",
    "import dash\n",
    "import dash_bootstrap_components as dbc\n",
    "from dash.dependencies import Input, Output\n",
    "from dash import dcc, html\n",
    "\n",
    "import pandas as pd\n",
    "import numpy as np\n",
    "\n",
    "\n",
    "#------------------------\n",
    "# CREATION OF THE NEEDED DATASETS AND LISTS\n",
    "#------------------------\n",
    "\n",
    "df_graph = df.sort_values(by=['average_rate'], ascending=False)\n",
    "df_graph = df_graph.drop(['address', 'city'], axis=1)\n",
    "\n",
    "#------------------------\n",
    "# METHODS\n",
    "#------------------------\n",
    "\n",
    "def df_graph_top_5_by_rating(df, district_number):\n",
    "    return df[df.postal_code == district_number].sort_values(by=['average_rate'], ascending=False).head(5)\n",
    "\n",
    "def df_graph_top_5_by_nb_reviews(df, district_number):\n",
    "    return df[df.postal_code == district_number].sort_values(by=['nb_of_reviews'], ascending=False).head(5)\n",
    "\n",
    "def series_top_5_district_by_average_rate(df):\n",
    "    return df.groupby(['postal_code'])['average_rate'].mean().nlargest(5)\n",
    "\n",
    "a = series_top_5_district_by_average_rate(df_graph)\n",
    "\n",
    "#------------------------\n",
    "###\n",
    "##\n",
    "#\n",
    "jupyter_dash.JupyterDash # You have to change this to use Dash outisde of Jupyter\n",
    "app = JupyterDash(__name__, external_stylesheets=[dbc.themes.CYBORG]) # this too\n",
    "#\n",
    "##\n",
    "###\n",
    "#------------------------\n",
    "\n",
    "#------------------------\n",
    "# Layout\n",
    "#------------------------\n",
    "\n",
    "app.layout = html.Div(children=\n",
    "    [\n",
    "    html.H1(children='Top 5 des pizzerias par arrondissement'),\n",
    "\n",
    "    html.Div(children='''\n",
    "        Selon leur note :\n",
    "    '''),\n",
    "    html.Div(\n",
    "        dash.dcc.Dropdown(options= df_graph['postal_code'].sort_values().unique(),\n",
    "        id=\"district-filter-1\",\n",
    "        value = df_graph['postal_code'].min()\n",
    "        )),\n",
    "\n",
    "    dcc.Graph(\n",
    "        id='top-5-rating-by-district-graph-with-dd'\n",
    "    ),\n",
    "                      \n",
    "    html.Div(children='''\n",
    "        Selon le nombre de commentaires :\n",
    "    '''),\n",
    "    html.Div(\n",
    "        dash.dcc.Dropdown(options= df_graph['postal_code'].sort_values().unique(),\n",
    "        id=\"district-filter-2\",\n",
    "        value = df_graph['postal_code'].min()\n",
    "        )),\n",
    "\n",
    "    dcc.Graph(\n",
    "        id='top-5-nb-reviews-by-district-graph-with-dd'\n",
    "    ),\n",
    "    \n",
    "    html.H1(children='Top 5 des arrondissements'),\n",
    "\n",
    "    html.Div(children='''\n",
    "        Selon leur note moyenne :\n",
    "    '''),\n",
    "        \n",
    "    dcc.Graph(\n",
    "            figure= px.bar(a, \n",
    "                 x= a.index , y= a.values, barmode=\"group\",\n",
    "                template='plotly_dark', range_y=[a.min() - 0.2 ,a.max()+0.2])\n",
    "\n",
    "    ),\n",
    "])\n",
    "   \n",
    "#------------------------\n",
    "# CALLBACKS\n",
    "#------------------------\n",
    "\n",
    "@app.callback(\n",
    "    Output('top-5-rating-by-district-graph-with-dd', 'figure'),\n",
    "    Input('district-filter-1', 'value')\n",
    ")\n",
    "\n",
    "def update_figure_1(selected_district):\n",
    "    filtered_df = df_graph_top_5_by_rating(df_graph, selected_district)\n",
    "    \n",
    "    fig_1 = px.bar(filtered_df, \n",
    "                 x='name', y='average_rate', barmode=\"group\",\n",
    "                template='plotly_dark')\n",
    "\n",
    "    fig_1.update_layout(transition_duration=500, yaxis_range=[filtered_df['average_rate'].min() - 0.2 ,5])\n",
    "    \n",
    "    return fig_1\n",
    "\n",
    "@app.callback(\n",
    "    Output('top-5-nb-reviews-by-district-graph-with-dd', 'figure'),\n",
    "    Input('district-filter-2', 'value')\n",
    ")\n",
    "\n",
    "def update_figure_2(selected_district):\n",
    "    filtered_df = df_graph_top_5_by_nb_reviews(df_graph, selected_district)\n",
    "    \n",
    "    fig_2 = px.bar(filtered_df, \n",
    "                 x='name', y='nb_of_reviews', barmode=\"group\",\n",
    "                template='plotly_dark')\n",
    "\n",
    "    fig_2.update_layout(transition_duration=500, yaxis_range=[filtered_df['nb_of_reviews'].min()-300  , filtered_df['nb_of_reviews'].max()+300])\n",
    "    \n",
    "    return fig_2\n",
    "    \n",
    "if __name__ == '__main__':\n",
    "    app.run_server(debug=True)"
   ]
  },
  {
   "cell_type": "code",
   "execution_count": null,
   "id": "ddce2699",
   "metadata": {},
   "outputs": [],
   "source": []
  }
 ],
 "metadata": {
  "kernelspec": {
   "display_name": "Python 3 (ipykernel)",
   "language": "python",
   "name": "python3"
  },
  "language_info": {
   "codemirror_mode": {
    "name": "ipython",
    "version": 3
   },
   "file_extension": ".py",
   "mimetype": "text/x-python",
   "name": "python",
   "nbconvert_exporter": "python",
   "pygments_lexer": "ipython3",
   "version": "3.10.6"
  }
 },
 "nbformat": 4,
 "nbformat_minor": 5
}
