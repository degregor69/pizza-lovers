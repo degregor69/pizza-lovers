{
 "cells": [
  {
   "cell_type": "markdown",
   "id": "4ee2fbba",
   "metadata": {},
   "source": [
    "# Reviews Analysis\n",
    "## Opening of the csv files"
   ]
  },
  {
   "cell_type": "code",
   "execution_count": 1,
   "id": "b6d83476",
   "metadata": {},
   "outputs": [],
   "source": [
    "import pandas as pd\n",
    "import numpy as np"
   ]
  },
  {
   "cell_type": "code",
   "execution_count": 2,
   "id": "05f348e2",
   "metadata": {},
   "outputs": [],
   "source": [
    "df = pd.read_csv(\"inputs_from_processing/comments_cleaned.csv\", sep='|')\n",
    "df_2 = pd.read_csv(\"inputs_from_processing/basic_data_cleaned.csv\", sep='|', index_col=[0])"
   ]
  },
  {
   "cell_type": "markdown",
   "id": "d1c6a627",
   "metadata": {},
   "source": [
    "## Transformation\n",
    "### Create the last 50 comments rate and add the to df"
   ]
  },
  {
   "cell_type": "code",
   "execution_count": 3,
   "id": "97534c02",
   "metadata": {},
   "outputs": [],
   "source": [
    "df_merge = df.groupby(['name', 'address'])['comment_rate'].mean().to_frame()\n",
    "\n",
    "df_3 = df_2.merge(df_merge['comment_rate'], how='left', on=['name', 'address'])"
   ]
  },
  {
   "cell_type": "markdown",
   "id": "42c07b8c",
   "metadata": {},
   "source": [
    "### Create boolean column if the average 'last 50' is equal or better than the average rate"
   ]
  },
  {
   "cell_type": "code",
   "execution_count": 4,
   "id": "524ed049",
   "metadata": {},
   "outputs": [],
   "source": [
    "df_3['last_50_better?'] = np.where(df_3['comment_rate'] == df_3['average_rate'], \"Equal\", np.where(df_3['comment_rate'] >= df_3['average_rate'], \"Better\", \"Worse\"))\n",
    "# df_3[df_3['location'].isna()]"
   ]
  },
  {
   "cell_type": "markdown",
   "id": "4a22f754",
   "metadata": {},
   "source": [
    "## Writing CSV file"
   ]
  },
  {
   "cell_type": "code",
   "execution_count": 5,
   "id": "7027fbb9",
   "metadata": {},
   "outputs": [],
   "source": [
    "df_3.to_csv(\"outputs/comments_rates_cleaned.csv\", sep='|')"
   ]
  },
  {
   "cell_type": "markdown",
   "id": "a4f95bb4",
   "metadata": {},
   "source": [
    "## Analysis\n",
    "### How many pizzerias are now better than their average rate ? "
   ]
  },
  {
   "cell_type": "code",
   "execution_count": 6,
   "id": "ca73c8c3",
   "metadata": {},
   "outputs": [
    {
     "data": {
      "text/plain": [
       "last_50_better?\n",
       "Better    289\n",
       "Equal      34\n",
       "Worse     234\n",
       "Name: last_50_better?, dtype: int64"
      ]
     },
     "execution_count": 6,
     "metadata": {},
     "output_type": "execute_result"
    }
   ],
   "source": [
    "df_3.groupby(['last_50_better?'])['last_50_better?'].count()"
   ]
  },
  {
   "cell_type": "markdown",
   "id": "55868c95",
   "metadata": {},
   "source": [
    "## First personnalized rating\n",
    "### Add the quantile column"
   ]
  },
  {
   "cell_type": "code",
   "execution_count": 7,
   "id": "5bca52de",
   "metadata": {},
   "outputs": [],
   "source": [
    "df_3['decile_rank_average_rate'] = pd.qcut(df_3['average_rate'],10, labels = False) + 1\n",
    "df_3['decile_rank_nb_of_reviews'] = pd.qcut(df_3['nb_of_reviews'],4, labels = False) + 1\n",
    "df_3['decile_rank_average_comment_rate'] = pd.qcut(df_3['comment_rate'],10, labels = False) + 1 "
   ]
  },
  {
   "cell_type": "markdown",
   "id": "c892977d",
   "metadata": {},
   "source": [
    "### Decile rank**2 if decile_rank_average_rate > 5"
   ]
  },
  {
   "cell_type": "code",
   "execution_count": 8,
   "id": "fa5e1572",
   "metadata": {},
   "outputs": [],
   "source": [
    "df_3.loc[df_3[\"decile_rank_average_rate\"] > 5, \"decile_rank_average_rate\"] = df_3[\"decile_rank_average_rate\"] ** 3\n",
    "df_3.loc[df_3[\"decile_rank_average_comment_rate\"] > 5, \"decile_rank_average_comment_rate\"] = df_3[\"decile_rank_average_comment_rate\"] ** 3 "
   ]
  },
  {
   "cell_type": "markdown",
   "id": "8f076d12",
   "metadata": {},
   "source": [
    "### Create the scores columns with their rank columns"
   ]
  },
  {
   "cell_type": "code",
   "execution_count": 9,
   "id": "f66eb636",
   "metadata": {},
   "outputs": [],
   "source": [
    "df_3['average_score'] = df_3['decile_rank_average_rate'] * df_3['decile_rank_nb_of_reviews']\n",
    "df_3['average_score_rank'] = df_3['average_score'].rank(method='max')\n",
    "df_3['last_score'] = df_3['decile_rank_average_comment_rate'] * df_3['decile_rank_nb_of_reviews']\n",
    "df_3['last_score_rank'] = df_3['last_score'].rank(method='max')"
   ]
  },
  {
   "cell_type": "markdown",
   "id": "9e183d91",
   "metadata": {},
   "source": [
    "### Top 10  by score, static_rate"
   ]
  },
  {
   "cell_type": "code",
   "execution_count": 10,
   "id": "efd4d009",
   "metadata": {},
   "outputs": [
    {
     "data": {
      "text/html": [
       "<div>\n",
       "<style scoped>\n",
       "    .dataframe tbody tr th:only-of-type {\n",
       "        vertical-align: middle;\n",
       "    }\n",
       "\n",
       "    .dataframe tbody tr th {\n",
       "        vertical-align: top;\n",
       "    }\n",
       "\n",
       "    .dataframe thead th {\n",
       "        text-align: right;\n",
       "    }\n",
       "</style>\n",
       "<table border=\"1\" class=\"dataframe\">\n",
       "  <thead>\n",
       "    <tr style=\"text-align: right;\">\n",
       "      <th></th>\n",
       "      <th>name</th>\n",
       "      <th>address</th>\n",
       "      <th>average_rate</th>\n",
       "      <th>nb_of_reviews</th>\n",
       "      <th>average_score_rank</th>\n",
       "      <th>last_score_rank</th>\n",
       "    </tr>\n",
       "  </thead>\n",
       "  <tbody>\n",
       "    <tr>\n",
       "      <th>102</th>\n",
       "      <td>IL POMOD'ORO</td>\n",
       "      <td>340 Rue Saint-Jacques, 75005 Paris</td>\n",
       "      <td>4.8</td>\n",
       "      <td>515</td>\n",
       "      <td>557.0</td>\n",
       "      <td>528.0</td>\n",
       "    </tr>\n",
       "    <tr>\n",
       "      <th>121</th>\n",
       "      <td>RESPIRO</td>\n",
       "      <td>18 Rue Maître Albert, 75005 Paris</td>\n",
       "      <td>4.8</td>\n",
       "      <td>524</td>\n",
       "      <td>557.0</td>\n",
       "      <td>528.0</td>\n",
       "    </tr>\n",
       "    <tr>\n",
       "      <th>496</th>\n",
       "      <td>Popu Bistro à Pizza</td>\n",
       "      <td>12 Rue du Champ de Mars, 75007 Paris</td>\n",
       "      <td>4.8</td>\n",
       "      <td>676</td>\n",
       "      <td>557.0</td>\n",
       "      <td>548.0</td>\n",
       "    </tr>\n",
       "    <tr>\n",
       "      <th>177</th>\n",
       "      <td>AGATA</td>\n",
       "      <td>168 Bd Saint-Germain, 75006 Paris</td>\n",
       "      <td>4.8</td>\n",
       "      <td>321</td>\n",
       "      <td>554.0</td>\n",
       "      <td>543.0</td>\n",
       "    </tr>\n",
       "    <tr>\n",
       "      <th>423</th>\n",
       "      <td>Little Capri</td>\n",
       "      <td>3 Sq. Paul Paray, 75017 Paris</td>\n",
       "      <td>4.9</td>\n",
       "      <td>328</td>\n",
       "      <td>554.0</td>\n",
       "      <td>543.0</td>\n",
       "    </tr>\n",
       "    <tr>\n",
       "      <th>67</th>\n",
       "      <td>Pépé Ronchon</td>\n",
       "      <td>31 Rue Saint-Lazare, 75009 Paris</td>\n",
       "      <td>4.8</td>\n",
       "      <td>411</td>\n",
       "      <td>554.0</td>\n",
       "      <td>543.0</td>\n",
       "    </tr>\n",
       "    <tr>\n",
       "      <th>373</th>\n",
       "      <td>La Vittoria</td>\n",
       "      <td>173 Rue du Temple, 75003 Paris</td>\n",
       "      <td>4.8</td>\n",
       "      <td>268</td>\n",
       "      <td>554.0</td>\n",
       "      <td>543.0</td>\n",
       "    </tr>\n",
       "    <tr>\n",
       "      <th>495</th>\n",
       "      <td>Casa Pizza</td>\n",
       "      <td>35 Av. Duquesne, 75007 Paris</td>\n",
       "      <td>4.8</td>\n",
       "      <td>299</td>\n",
       "      <td>554.0</td>\n",
       "      <td>543.0</td>\n",
       "    </tr>\n",
       "    <tr>\n",
       "      <th>281</th>\n",
       "      <td>Pop's</td>\n",
       "      <td>38 Rue du Ranelagh, 75016 Paris</td>\n",
       "      <td>4.7</td>\n",
       "      <td>723</td>\n",
       "      <td>549.0</td>\n",
       "      <td>448.0</td>\n",
       "    </tr>\n",
       "    <tr>\n",
       "      <th>3</th>\n",
       "      <td>Liberto</td>\n",
       "      <td>23 Rue Berger, 75001 Paris</td>\n",
       "      <td>4.7</td>\n",
       "      <td>1697</td>\n",
       "      <td>549.0</td>\n",
       "      <td>276.0</td>\n",
       "    </tr>\n",
       "  </tbody>\n",
       "</table>\n",
       "</div>"
      ],
      "text/plain": [
       "                    name                               address  average_rate  \\\n",
       "102         IL POMOD'ORO    340 Rue Saint-Jacques, 75005 Paris           4.8   \n",
       "121              RESPIRO     18 Rue Maître Albert, 75005 Paris           4.8   \n",
       "496  Popu Bistro à Pizza  12 Rue du Champ de Mars, 75007 Paris           4.8   \n",
       "177                AGATA     168 Bd Saint-Germain, 75006 Paris           4.8   \n",
       "423         Little Capri         3 Sq. Paul Paray, 75017 Paris           4.9   \n",
       "67          Pépé Ronchon      31 Rue Saint-Lazare, 75009 Paris           4.8   \n",
       "373          La Vittoria        173 Rue du Temple, 75003 Paris           4.8   \n",
       "495           Casa Pizza          35 Av. Duquesne, 75007 Paris           4.8   \n",
       "281                Pop's       38 Rue du Ranelagh, 75016 Paris           4.7   \n",
       "3                Liberto            23 Rue Berger, 75001 Paris           4.7   \n",
       "\n",
       "     nb_of_reviews  average_score_rank  last_score_rank  \n",
       "102            515               557.0            528.0  \n",
       "121            524               557.0            528.0  \n",
       "496            676               557.0            548.0  \n",
       "177            321               554.0            543.0  \n",
       "423            328               554.0            543.0  \n",
       "67             411               554.0            543.0  \n",
       "373            268               554.0            543.0  \n",
       "495            299               554.0            543.0  \n",
       "281            723               549.0            448.0  \n",
       "3             1697               549.0            276.0  "
      ]
     },
     "execution_count": 10,
     "metadata": {},
     "output_type": "execute_result"
    }
   ],
   "source": [
    "df_3[['name', 'address','average_rate','nb_of_reviews', 'average_score_rank', 'last_score_rank']].sort_values(by=['average_score_rank'], ascending=False).head(10)\n"
   ]
  },
  {
   "cell_type": "markdown",
   "id": "12a0f3c6",
   "metadata": {},
   "source": [
    "### Top 10 by score, \"dynamic rate\""
   ]
  },
  {
   "cell_type": "code",
   "execution_count": 11,
   "id": "b557203a",
   "metadata": {},
   "outputs": [
    {
     "data": {
      "text/html": [
       "<div>\n",
       "<style scoped>\n",
       "    .dataframe tbody tr th:only-of-type {\n",
       "        vertical-align: middle;\n",
       "    }\n",
       "\n",
       "    .dataframe tbody tr th {\n",
       "        vertical-align: top;\n",
       "    }\n",
       "\n",
       "    .dataframe thead th {\n",
       "        text-align: right;\n",
       "    }\n",
       "</style>\n",
       "<table border=\"1\" class=\"dataframe\">\n",
       "  <thead>\n",
       "    <tr style=\"text-align: right;\">\n",
       "      <th></th>\n",
       "      <th>name</th>\n",
       "      <th>address</th>\n",
       "      <th>average_rate</th>\n",
       "      <th>nb_of_reviews</th>\n",
       "      <th>last_score</th>\n",
       "      <th>last_score_rank</th>\n",
       "      <th>average_score_rank</th>\n",
       "    </tr>\n",
       "  </thead>\n",
       "  <tbody>\n",
       "    <tr>\n",
       "      <th>223</th>\n",
       "      <td>Ober Mamma</td>\n",
       "      <td>107 Bd Richard-Lenoir, 75011 Paris</td>\n",
       "      <td>4.5</td>\n",
       "      <td>6504</td>\n",
       "      <td>4000.0</td>\n",
       "      <td>548.0</td>\n",
       "      <td>496.0</td>\n",
       "    </tr>\n",
       "    <tr>\n",
       "      <th>106</th>\n",
       "      <td>I LAZZARI</td>\n",
       "      <td>44 Rue de la Montagne Ste Geneviève, 75005 Paris</td>\n",
       "      <td>4.5</td>\n",
       "      <td>702</td>\n",
       "      <td>4000.0</td>\n",
       "      <td>548.0</td>\n",
       "      <td>496.0</td>\n",
       "    </tr>\n",
       "    <tr>\n",
       "      <th>496</th>\n",
       "      <td>Popu Bistro à Pizza</td>\n",
       "      <td>12 Rue du Champ de Mars, 75007 Paris</td>\n",
       "      <td>4.8</td>\n",
       "      <td>676</td>\n",
       "      <td>4000.0</td>\n",
       "      <td>548.0</td>\n",
       "      <td>557.0</td>\n",
       "    </tr>\n",
       "    <tr>\n",
       "      <th>60</th>\n",
       "      <td>In bocca al lupo</td>\n",
       "      <td>14 Rue Francœur, 75018 Paris</td>\n",
       "      <td>4.6</td>\n",
       "      <td>613</td>\n",
       "      <td>4000.0</td>\n",
       "      <td>548.0</td>\n",
       "      <td>539.0</td>\n",
       "    </tr>\n",
       "    <tr>\n",
       "      <th>133</th>\n",
       "      <td>Pizzeria le Quartier Latin** nouvelle gérance ...</td>\n",
       "      <td>1 Rue Mouffetard, 75005 Paris</td>\n",
       "      <td>4.5</td>\n",
       "      <td>603</td>\n",
       "      <td>4000.0</td>\n",
       "      <td>548.0</td>\n",
       "      <td>496.0</td>\n",
       "    </tr>\n",
       "    <tr>\n",
       "      <th>18</th>\n",
       "      <td>Enza &amp; Famiglia pizzeria</td>\n",
       "      <td>19 Rue du Roule, 75001 Paris</td>\n",
       "      <td>4.4</td>\n",
       "      <td>351</td>\n",
       "      <td>3000.0</td>\n",
       "      <td>543.0</td>\n",
       "      <td>365.0</td>\n",
       "    </tr>\n",
       "    <tr>\n",
       "      <th>283</th>\n",
       "      <td>Anita</td>\n",
       "      <td>182 Quai Louis Blériot, 75016 Paris</td>\n",
       "      <td>4.5</td>\n",
       "      <td>362</td>\n",
       "      <td>3000.0</td>\n",
       "      <td>543.0</td>\n",
       "      <td>475.0</td>\n",
       "    </tr>\n",
       "    <tr>\n",
       "      <th>207</th>\n",
       "      <td>Pizzeria Iovine's.</td>\n",
       "      <td>27 Rue de Bretagne, 75003 Paris</td>\n",
       "      <td>4.5</td>\n",
       "      <td>469</td>\n",
       "      <td>3000.0</td>\n",
       "      <td>543.0</td>\n",
       "      <td>475.0</td>\n",
       "    </tr>\n",
       "    <tr>\n",
       "      <th>67</th>\n",
       "      <td>Pépé Ronchon</td>\n",
       "      <td>31 Rue Saint-Lazare, 75009 Paris</td>\n",
       "      <td>4.8</td>\n",
       "      <td>411</td>\n",
       "      <td>3000.0</td>\n",
       "      <td>543.0</td>\n",
       "      <td>554.0</td>\n",
       "    </tr>\n",
       "    <tr>\n",
       "      <th>495</th>\n",
       "      <td>Casa Pizza</td>\n",
       "      <td>35 Av. Duquesne, 75007 Paris</td>\n",
       "      <td>4.8</td>\n",
       "      <td>299</td>\n",
       "      <td>3000.0</td>\n",
       "      <td>543.0</td>\n",
       "      <td>554.0</td>\n",
       "    </tr>\n",
       "  </tbody>\n",
       "</table>\n",
       "</div>"
      ],
      "text/plain": [
       "                                                  name  \\\n",
       "223                                         Ober Mamma   \n",
       "106                                          I LAZZARI   \n",
       "496                                Popu Bistro à Pizza   \n",
       "60                                    In bocca al lupo   \n",
       "133  Pizzeria le Quartier Latin** nouvelle gérance ...   \n",
       "18                            Enza & Famiglia pizzeria   \n",
       "283                                              Anita   \n",
       "207                                 Pizzeria Iovine's.   \n",
       "67                                        Pépé Ronchon   \n",
       "495                                         Casa Pizza   \n",
       "\n",
       "                                              address  average_rate  \\\n",
       "223                107 Bd Richard-Lenoir, 75011 Paris           4.5   \n",
       "106  44 Rue de la Montagne Ste Geneviève, 75005 Paris           4.5   \n",
       "496              12 Rue du Champ de Mars, 75007 Paris           4.8   \n",
       "60                       14 Rue Francœur, 75018 Paris           4.6   \n",
       "133                     1 Rue Mouffetard, 75005 Paris           4.5   \n",
       "18                       19 Rue du Roule, 75001 Paris           4.4   \n",
       "283               182 Quai Louis Blériot, 75016 Paris           4.5   \n",
       "207                   27 Rue de Bretagne, 75003 Paris           4.5   \n",
       "67                   31 Rue Saint-Lazare, 75009 Paris           4.8   \n",
       "495                      35 Av. Duquesne, 75007 Paris           4.8   \n",
       "\n",
       "     nb_of_reviews  last_score  last_score_rank  average_score_rank  \n",
       "223           6504      4000.0            548.0               496.0  \n",
       "106            702      4000.0            548.0               496.0  \n",
       "496            676      4000.0            548.0               557.0  \n",
       "60             613      4000.0            548.0               539.0  \n",
       "133            603      4000.0            548.0               496.0  \n",
       "18             351      3000.0            543.0               365.0  \n",
       "283            362      3000.0            543.0               475.0  \n",
       "207            469      3000.0            543.0               475.0  \n",
       "67             411      3000.0            543.0               554.0  \n",
       "495            299      3000.0            543.0               554.0  "
      ]
     },
     "execution_count": 11,
     "metadata": {},
     "output_type": "execute_result"
    }
   ],
   "source": [
    "df_3[['name', 'address','average_rate','nb_of_reviews', 'last_score', 'last_score_rank', 'average_score_rank']].sort_values(by=['last_score'], ascending=False).head(10)\n"
   ]
  }
 ],
 "metadata": {
  "kernelspec": {
   "display_name": "Python 3 (ipykernel)",
   "language": "python",
   "name": "python3"
  },
  "language_info": {
   "codemirror_mode": {
    "name": "ipython",
    "version": 3
   },
   "file_extension": ".py",
   "mimetype": "text/x-python",
   "name": "python",
   "nbconvert_exporter": "python",
   "pygments_lexer": "ipython3",
   "version": "3.10.6"
  }
 },
 "nbformat": 4,
 "nbformat_minor": 5
}
