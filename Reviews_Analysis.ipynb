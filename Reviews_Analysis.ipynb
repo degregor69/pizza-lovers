{
 "cells": [
  {
   "cell_type": "markdown",
   "id": "34bd2147",
   "metadata": {},
   "source": [
    "# Reviews Analysis\n",
    "## Opening of the csv files"
   ]
  },
  {
   "cell_type": "code",
   "execution_count": 1,
   "id": "ef94f97a",
   "metadata": {},
   "outputs": [],
   "source": [
    "import pandas as pd\n",
    "import numpy as np"
   ]
  },
  {
   "cell_type": "code",
   "execution_count": 2,
   "id": "da2d7a63",
   "metadata": {},
   "outputs": [],
   "source": [
    "df = pd.read_csv(\"inputs_from_processing/comments_cleaned.csv\", sep='|')\n",
    "df_2 = pd.read_csv(\"inputs_from_processing/basic_data_cleaned.csv\", sep='|', index_col=[0])"
   ]
  },
  {
   "cell_type": "markdown",
   "id": "972be616",
   "metadata": {},
   "source": [
    "## Transformation\n",
    "### Create the last 50 comments rate and add the to df"
   ]
  },
  {
   "cell_type": "code",
   "execution_count": 3,
   "id": "fc2177ff",
   "metadata": {},
   "outputs": [],
   "source": [
    "df_merge = df.groupby(['name', 'address'])['comment_rate'].mean().to_frame()\n",
    "\n",
    "df_last_average_rate = df_2.merge(df_merge['comment_rate'], how='left', on=['name', 'address'])"
   ]
  },
  {
   "cell_type": "markdown",
   "id": "0503f01a",
   "metadata": {},
   "source": [
    "### Create boolean column if the average 'last 50' is equal or better than the average rate"
   ]
  },
  {
   "cell_type": "code",
   "execution_count": 4,
   "id": "65b0c42b",
   "metadata": {},
   "outputs": [],
   "source": [
    "df_last_average_rate['last_50_better?'] = np.where(df_last_average_rate['comment_rate'] == df_last_average_rate['average_rate'], \"Equal\", np.where(df_last_average_rate['comment_rate'] >= df_last_average_rate['average_rate'], \"Better\", \"Worse\"))\n",
    "# df_last_average_rate[df_last_average_rate['location'].isna()]"
   ]
  },
  {
   "cell_type": "markdown",
   "id": "eba47130",
   "metadata": {},
   "source": [
    "## Writing CSV file"
   ]
  },
  {
   "cell_type": "code",
   "execution_count": 5,
   "id": "9ef2d821",
   "metadata": {},
   "outputs": [],
   "source": [
    "df_last_average_rate.to_csv(\"outputs/comments_rates_cleaned.csv\", sep='|')"
   ]
  },
  {
   "cell_type": "markdown",
   "id": "8d0b5dc0",
   "metadata": {},
   "source": [
    "## Analysis\n",
    "### How many pizzerias are now better than their average rate ? "
   ]
  },
  {
   "cell_type": "code",
   "execution_count": 6,
   "id": "561ba7da",
   "metadata": {},
   "outputs": [
    {
     "data": {
      "text/plain": [
       "last_50_better?\n",
       "Better    294\n",
       "Equal      34\n",
       "Worse     237\n",
       "Name: last_50_better?, dtype: int64"
      ]
     },
     "execution_count": 6,
     "metadata": {},
     "output_type": "execute_result"
    }
   ],
   "source": [
    "df_last_average_rate.groupby(['last_50_better?'])['last_50_better?'].count()"
   ]
  }
 ],
 "metadata": {
  "kernelspec": {
   "display_name": "Python 3 (ipykernel)",
   "language": "python",
   "name": "python3"
  },
  "language_info": {
   "codemirror_mode": {
    "name": "ipython",
    "version": 3
   },
   "file_extension": ".py",
   "mimetype": "text/x-python",
   "name": "python",
   "nbconvert_exporter": "python",
   "pygments_lexer": "ipython3",
   "version": "3.10.6"
  }
 },
 "nbformat": 4,
 "nbformat_minor": 5
}
