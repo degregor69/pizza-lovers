{
 "cells": [
  {
   "cell_type": "code",
   "execution_count": 1,
   "id": "dd9d5e4e",
   "metadata": {},
   "outputs": [],
   "source": [
    "import pandas as pd\n",
    "import numpy as np"
   ]
  },
  {
   "cell_type": "markdown",
   "id": "127d6aa7",
   "metadata": {},
   "source": [
    "# Opening"
   ]
  },
  {
   "cell_type": "markdown",
   "id": "b893c895",
   "metadata": {},
   "source": [
    "## CSV readers"
   ]
  },
  {
   "cell_type": "code",
   "execution_count": 2,
   "id": "e43fa9d8",
   "metadata": {},
   "outputs": [],
   "source": [
    "df = pd.read_csv('reviews.csv', sep='|')\n",
    "df_2 = pd.read_csv('reviews_75020_75007.csv', sep='|')\n",
    "\n",
    "df = pd.concat([df, df_2])\n",
    "df.reset_index(drop=True, inplace=True)\n",
    "# df"
   ]
  },
  {
   "cell_type": "markdown",
   "id": "f711209a",
   "metadata": {},
   "source": [
    "# Cleaning"
   ]
  },
  {
   "cell_type": "markdown",
   "id": "a381717c",
   "metadata": {},
   "source": [
    "### Drop duplicates"
   ]
  },
  {
   "cell_type": "code",
   "execution_count": 3,
   "id": "bdd67301",
   "metadata": {},
   "outputs": [],
   "source": [
    "# Drop duplicates except if comment value is null\n",
    "df = df[(~df.duplicated()) | (df['comment'].isnull())]"
   ]
  },
  {
   "cell_type": "markdown",
   "id": "07636694",
   "metadata": {},
   "source": [
    "### Check the number of empty fields"
   ]
  },
  {
   "cell_type": "code",
   "execution_count": 4,
   "id": "c093a99d",
   "metadata": {
    "scrolled": true
   },
   "outputs": [
    {
     "data": {
      "text/plain": [
       "name               0\n",
       "address            0\n",
       "comment         6003\n",
       "comment_rate       0\n",
       "dtype: int64"
      ]
     },
     "execution_count": 4,
     "metadata": {},
     "output_type": "execute_result"
    }
   ],
   "source": [
    "df.isnull().sum()\n",
    "# Only the comments can be empty"
   ]
  },
  {
   "cell_type": "markdown",
   "id": "168f82b5",
   "metadata": {},
   "source": [
    "### Remove comments from pizzerias that are not in Paris"
   ]
  },
  {
   "cell_type": "code",
   "execution_count": 5,
   "id": "c1ef1024",
   "metadata": {},
   "outputs": [],
   "source": [
    "pd.set_option('display.max_rows', None)\n",
    "# print(df[~df['address'].str.contains('Paris')]['address'].unique())\n",
    "\n",
    "# We have to change an address that is in Paris. Others are out of Paris.\n",
    "df.loc[ df['address'] == 'Angle rue de Boulanvilliers, 1 Rue des Bauches, 75016', 'address'] = 'Angle rue de Boulanvilliers, 1 Rue des Bauches, 75016 Paris'\n",
    "# print(df[~df['address'].str.contains('Paris')]['address'].unique())\n",
    "pd.set_option('display.max_rows', 10)"
   ]
  },
  {
   "cell_type": "code",
   "execution_count": 6,
   "id": "6af50c73",
   "metadata": {},
   "outputs": [],
   "source": [
    "df = df[df['address'].str.contains('Paris', na=False)]\n",
    "# print(df[~df['address'].str.contains('Paris')]['address'].unique())"
   ]
  },
  {
   "cell_type": "markdown",
   "id": "0a96ca7e",
   "metadata": {},
   "source": [
    "### Remove newlines in the comments column"
   ]
  },
  {
   "cell_type": "code",
   "execution_count": 7,
   "id": "2ca889af",
   "metadata": {},
   "outputs": [],
   "source": [
    "df = df.replace('\\n',' ', regex=True)"
   ]
  },
  {
   "cell_type": "markdown",
   "id": "35856c5c",
   "metadata": {},
   "source": [
    "### Add a postal_code column"
   ]
  },
  {
   "cell_type": "code",
   "execution_count": 8,
   "id": "d95c675a",
   "metadata": {},
   "outputs": [],
   "source": [
    "df.address.str.split().str[-2]\n",
    "df['postal_code'] = df.address.str.split().str[-2]"
   ]
  },
  {
   "cell_type": "markdown",
   "id": "7bb72fd5",
   "metadata": {},
   "source": [
    "### Change comment_rate to int"
   ]
  },
  {
   "cell_type": "code",
   "execution_count": 9,
   "id": "59b767d0",
   "metadata": {},
   "outputs": [],
   "source": [
    "df.comment_rate.str.split().str[0]\n",
    "df['comment_rate'] = df.comment_rate.str.split().str[0]\n",
    "df['comment_rate'] = pd.to_numeric(df['comment_rate'])"
   ]
  },
  {
   "cell_type": "markdown",
   "id": "48503480",
   "metadata": {},
   "source": [
    "### Keep only traductions when there are some"
   ]
  },
  {
   "cell_type": "code",
   "execution_count": 12,
   "id": "c0ccfa87",
   "metadata": {},
   "outputs": [
    {
     "name": "stderr",
     "output_type": "stream",
     "text": [
      "/tmp/ipykernel_7014/3744359659.py:2: FutureWarning: The default value of regex will change from True to False in a future version.\n",
      "  df['cleaned_comment'] = df['comment'].str.replace(r'[()]',\"\").str.replace(\"Traduit par Google\",\"\").str.strip()\n"
     ]
    }
   ],
   "source": [
    "# Remove all the parantheses, \"Traduit par Google\" and the spaces in the string\n",
    "df['cleaned_comment'] = df['comment'].str.replace(r'[()]',\"\").str.replace(\"Traduit par Google\",\"\").str.strip()\n",
    "\n",
    "# Split by Avis d'origine to separate the traduction and the original text\n",
    "df['cleaned_comment'] = df['cleaned_comment'].str.split(\"Avis d'origine\")\n",
    "\n",
    "# Keep the first element and strip\n",
    "df['cleaned_comment'] = df['cleaned_comment'].str[0].str.strip()"
   ]
  },
  {
   "cell_type": "markdown",
   "id": "9ce4cdb3",
   "metadata": {},
   "source": [
    "### Writing to CSV file"
   ]
  },
  {
   "cell_type": "code",
   "execution_count": 13,
   "id": "0a84ad7b",
   "metadata": {},
   "outputs": [],
   "source": [
    "df.to_csv(\"comments_cleaned.csv\", sep='|')"
   ]
  }
 ],
 "metadata": {
  "kernelspec": {
   "display_name": "Python 3 (ipykernel)",
   "language": "python",
   "name": "python3"
  },
  "language_info": {
   "codemirror_mode": {
    "name": "ipython",
    "version": 3
   },
   "file_extension": ".py",
   "mimetype": "text/x-python",
   "name": "python",
   "nbconvert_exporter": "python",
   "pygments_lexer": "ipython3",
   "version": "3.10.6"
  }
 },
 "nbformat": 4,
 "nbformat_minor": 5
}
